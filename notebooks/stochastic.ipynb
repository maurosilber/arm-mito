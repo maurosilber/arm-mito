{
 "cells": [
  {
   "cell_type": "code",
   "execution_count": null,
   "metadata": {},
   "outputs": [],
   "source": [
    "from functools import partial\n",
    "\n",
    "import xarray\n",
    "import pandas as pd\n",
    "from stochastic import create, run\n",
    "from tqdm.contrib.concurrent import process_map\n"
   ]
  },
  {
   "cell_type": "code",
   "execution_count": null,
   "metadata": {},
   "outputs": [],
   "source": [
    "_, y = create(N=50, volume=1, L=0, Intrinsic=10)\n",
    "\n",
    "y = pd.Series(y).filter(like=\"mitocondria_0\")\n",
    "y[y>0]"
   ]
  },
  {
   "cell_type": "code",
   "execution_count": null,
   "metadata": {},
   "outputs": [],
   "source": [
    "df = xarray.concat(\n",
    "    process_map(\n",
    "        partial(\n",
    "            run,\n",
    "            t_max=12 * 3600,\n",
    "            steps=3600,\n",
    "            create=partial(create, N=1, volume=1, L=0, Intrinsic=100),\n",
    "            # save=None,\n",
    "        ),\n",
    "        range(10),\n",
    "    ),\n",
    "    \"seed\",\n",
    ")"
   ]
  },
  {
   "cell_type": "code",
   "execution_count": null,
   "metadata": {},
   "outputs": [],
   "source": [
    "df.to_dataarray().plot.line(col=\"variable\", x=\"time\", add_legend=False, col_wrap=5, sharey=False)"
   ]
  }
 ],
 "metadata": {
  "kernelspec": {
   "display_name": "dev",
   "language": "python",
   "name": "python3"
  },
  "language_info": {
   "codemirror_mode": {
    "name": "ipython",
    "version": 3
   },
   "file_extension": ".py",
   "mimetype": "text/x-python",
   "name": "python",
   "nbconvert_exporter": "python",
   "pygments_lexer": "ipython3",
   "version": "3.12.7"
  }
 },
 "nbformat": 4,
 "nbformat_minor": 2
}
