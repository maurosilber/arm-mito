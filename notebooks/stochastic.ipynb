{
 "cells": [
  {
   "cell_type": "code",
   "execution_count": null,
   "metadata": {},
   "outputs": [],
   "source": [
    "from functools import partial\n",
    "\n",
    "import pandas as pd\n",
    "import xarray\n",
    "from stochastic import ARM, create, run\n",
    "from tqdm.contrib.concurrent import process_map\n"
   ]
  },
  {
   "cell_type": "code",
   "execution_count": null,
   "metadata": {},
   "outputs": [],
   "source": [
    "_, y = create(\n",
    "    volume=1,\n",
    "    L=1000,\n",
    "    Intrinsic=0,\n",
    "    loop_values={ARM.mitocondria.volume: [0.07]},\n",
    ")\n",
    "\n",
    "y = pd.Series(y)\n",
    "y[y > 0]"
   ]
  },
  {
   "cell_type": "code",
   "execution_count": null,
   "metadata": {},
   "outputs": [],
   "source": [
    "dfs = []"
   ]
  },
  {
   "cell_type": "code",
   "execution_count": null,
   "metadata": {},
   "outputs": [],
   "source": [
    "N = 24\n",
    "start = len(dfs)\n",
    "dfs.extend(\n",
    "    process_map(\n",
    "        partial(\n",
    "            run,\n",
    "            t_max=12 * 3600,\n",
    "            steps=3600,\n",
    "            create=partial(\n",
    "                create,\n",
    "                volume=1,\n",
    "                L=1000,\n",
    "                Intrinsic=0,\n",
    "                loop_values={ARM.mitocondria.volume: [0.07]},\n",
    "            ),\n",
    "        ),\n",
    "        range(start, start + N),\n",
    "    ),\n",
    ")\n",
    "df = xarray.concat(dfs, \"seed\")"
   ]
  },
  {
   "cell_type": "code",
   "execution_count": null,
   "metadata": {},
   "outputs": [],
   "source": [
    "df.to_dataarray().plot.line(col=\"variable\", x=\"time\", add_legend=False, col_wrap=5, sharey=False)"
   ]
  }
 ],
 "metadata": {
  "kernelspec": {
   "display_name": "dev",
   "language": "python",
   "name": "python3"
  },
  "language_info": {
   "codemirror_mode": {
    "name": "ipython",
    "version": 3
   },
   "file_extension": ".py",
   "mimetype": "text/x-python",
   "name": "python",
   "nbconvert_exporter": "python",
   "pygments_lexer": "ipython3",
   "version": "3.12.7"
  }
 },
 "nbformat": 4,
 "nbformat_minor": 2
}
